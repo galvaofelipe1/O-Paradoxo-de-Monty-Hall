{
 "cells": [
  {
   "cell_type": "markdown",
   "id": "283def4e",
   "metadata": {},
   "source": [
    "# Paradoxo de Monty Hall\n",
    "\n",
    "Esse notebook nos ajuda a tentar resolver o Paradoxo de Monty Hall"
   ]
  },
  {
   "cell_type": "code",
   "execution_count": 176,
   "id": "307a9deb",
   "metadata": {},
   "outputs": [
    {
     "name": "stdout",
     "output_type": "stream",
     "text": [
      "Defina o tamanho do espaço amostral\n",
      "n : 10000\n"
     ]
    }
   ],
   "source": [
    "\n",
    "import random\n",
    "import numpy as np\n",
    "import pandas as pd\n",
    "import matplotlib.pyplot as plt\n",
    "\n",
    "print('Defina o tamanho do espaço amostral')\n",
    "n = int(input( 'n : '))"
   ]
  },
  {
   "cell_type": "markdown",
   "id": "a7bb5a94",
   "metadata": {},
   "source": [
    "### Função 1:\n",
    "\n",
    "Essa função irá criar uma lista com n posições de 1 a 3 para as posições da porta com o premium"
   ]
  },
  {
   "cell_type": "code",
   "execution_count": 177,
   "id": "2f68cb49",
   "metadata": {},
   "outputs": [],
   "source": [
    "def posiçao_premio(n):\n",
    "    \n",
    "    posiç_prem = np.random.randint(3, size=n)\n",
    "    posiç_prem = posiç_prem + 1\n",
    "    \n",
    "    return posiç_prem\n",
    "\n",
    "    "
   ]
  },
  {
   "cell_type": "markdown",
   "id": "01b8d738",
   "metadata": {},
   "source": [
    "### Função 2:\n",
    "\n",
    "Agora vamos criar uma lista com n escolhas para o participante do jogo"
   ]
  },
  {
   "cell_type": "code",
   "execution_count": 178,
   "id": "5dc89367",
   "metadata": {},
   "outputs": [],
   "source": [
    "def escolha(n):\n",
    "    \n",
    "    escolha = np.random.randint(3, size=n)\n",
    "    escolha = escolha + 1\n",
    "    \n",
    "    return escolha"
   ]
  },
  {
   "cell_type": "markdown",
   "id": "dc9cdba6",
   "metadata": {},
   "source": [
    "### Função 3:\n",
    "\n",
    "Essa função cria uma lista com as portas que foram abertas pelo apresentador do show"
   ]
  },
  {
   "cell_type": "code",
   "execution_count": 179,
   "id": "2dbabd61",
   "metadata": {},
   "outputs": [],
   "source": [
    "def porta_aberta(posiçao_premio, escolha):\n",
    "    \n",
    "    porta_aberta = []\n",
    "    for i in range(len(posiçao_premio)):\n",
    "             \n",
    "        x = np.random.randint(3, size=1)\n",
    "        x = x + 1\n",
    "        while x == posiçao_premio[i] or x ==  escolha[i]  :\n",
    "                \n",
    "            x = np.random.randint(3, size=1)\n",
    "            x = x + 1\n",
    "            \n",
    "            \n",
    "        porta_aberta.append(x[0])\n",
    "\n",
    "\n",
    "            \n",
    "    return porta_aberta        \n",
    "            \n",
    "posiçao_premio = posiçao_premio(n)            \n",
    "escolha =  escolha(n)           \n",
    "porta_aberta = porta_aberta(posiçao_premio, escolha)\n",
    "\n",
    "nao_trocou = pd.DataFrame({'Porta Premiada' : posiçao_premio ,\n",
    "                           'Porta Escolhida' : escolha,\n",
    "                           'Porta Revelada' : porta_aberta})"
   ]
  },
  {
   "cell_type": "markdown",
   "id": "ee911679",
   "metadata": {},
   "source": [
    "### Função 4:\n",
    "\n",
    "Essa função só será utilizada para os participantes que escolhem mudar de porta"
   ]
  },
  {
   "cell_type": "code",
   "execution_count": 180,
   "id": "feff5c48",
   "metadata": {},
   "outputs": [],
   "source": [
    "def troca_porta(escolha, porta_aberta):\n",
    "    \n",
    "    troca_porta = []\n",
    "    for i in range(len(escolha)):\n",
    "        x = np.random.randint(3, size=1)\n",
    "        x = x + 1\n",
    "        while x == porta_aberta[i] or x ==  escolha[i]  :\n",
    "                \n",
    "            x = np.random.randint(3, size=1)\n",
    "            x = x + 1\n",
    "            \n",
    "            \n",
    "        troca_porta.append(x[0])\n",
    "\n",
    "\n",
    "            \n",
    "    return troca_porta\n",
    "        "
   ]
  },
  {
   "cell_type": "code",
   "execution_count": 181,
   "id": "462a073b",
   "metadata": {},
   "outputs": [
    {
     "data": {
      "text/html": [
       "<div>\n",
       "<style scoped>\n",
       "    .dataframe tbody tr th:only-of-type {\n",
       "        vertical-align: middle;\n",
       "    }\n",
       "\n",
       "    .dataframe tbody tr th {\n",
       "        vertical-align: top;\n",
       "    }\n",
       "\n",
       "    .dataframe thead th {\n",
       "        text-align: right;\n",
       "    }\n",
       "</style>\n",
       "<table border=\"1\" class=\"dataframe\">\n",
       "  <thead>\n",
       "    <tr style=\"text-align: right;\">\n",
       "      <th></th>\n",
       "      <th>Porta Premiada</th>\n",
       "      <th>Porta Escolhida</th>\n",
       "      <th>Porta Revelada</th>\n",
       "      <th>Nova Porta</th>\n",
       "    </tr>\n",
       "  </thead>\n",
       "  <tbody>\n",
       "    <tr>\n",
       "      <th>0</th>\n",
       "      <td>1</td>\n",
       "      <td>1</td>\n",
       "      <td>3</td>\n",
       "      <td>2</td>\n",
       "    </tr>\n",
       "    <tr>\n",
       "      <th>1</th>\n",
       "      <td>2</td>\n",
       "      <td>1</td>\n",
       "      <td>3</td>\n",
       "      <td>2</td>\n",
       "    </tr>\n",
       "    <tr>\n",
       "      <th>2</th>\n",
       "      <td>1</td>\n",
       "      <td>2</td>\n",
       "      <td>3</td>\n",
       "      <td>1</td>\n",
       "    </tr>\n",
       "    <tr>\n",
       "      <th>3</th>\n",
       "      <td>3</td>\n",
       "      <td>3</td>\n",
       "      <td>1</td>\n",
       "      <td>2</td>\n",
       "    </tr>\n",
       "    <tr>\n",
       "      <th>4</th>\n",
       "      <td>2</td>\n",
       "      <td>1</td>\n",
       "      <td>3</td>\n",
       "      <td>2</td>\n",
       "    </tr>\n",
       "    <tr>\n",
       "      <th>...</th>\n",
       "      <td>...</td>\n",
       "      <td>...</td>\n",
       "      <td>...</td>\n",
       "      <td>...</td>\n",
       "    </tr>\n",
       "    <tr>\n",
       "      <th>9995</th>\n",
       "      <td>2</td>\n",
       "      <td>3</td>\n",
       "      <td>1</td>\n",
       "      <td>2</td>\n",
       "    </tr>\n",
       "    <tr>\n",
       "      <th>9996</th>\n",
       "      <td>2</td>\n",
       "      <td>1</td>\n",
       "      <td>3</td>\n",
       "      <td>2</td>\n",
       "    </tr>\n",
       "    <tr>\n",
       "      <th>9997</th>\n",
       "      <td>2</td>\n",
       "      <td>1</td>\n",
       "      <td>3</td>\n",
       "      <td>2</td>\n",
       "    </tr>\n",
       "    <tr>\n",
       "      <th>9998</th>\n",
       "      <td>1</td>\n",
       "      <td>3</td>\n",
       "      <td>2</td>\n",
       "      <td>1</td>\n",
       "    </tr>\n",
       "    <tr>\n",
       "      <th>9999</th>\n",
       "      <td>3</td>\n",
       "      <td>1</td>\n",
       "      <td>2</td>\n",
       "      <td>3</td>\n",
       "    </tr>\n",
       "  </tbody>\n",
       "</table>\n",
       "<p>10000 rows × 4 columns</p>\n",
       "</div>"
      ],
      "text/plain": [
       "      Porta Premiada  Porta Escolhida  Porta Revelada  Nova Porta\n",
       "0                  1                1               3           2\n",
       "1                  2                1               3           2\n",
       "2                  1                2               3           1\n",
       "3                  3                3               1           2\n",
       "4                  2                1               3           2\n",
       "...              ...              ...             ...         ...\n",
       "9995               2                3               1           2\n",
       "9996               2                1               3           2\n",
       "9997               2                1               3           2\n",
       "9998               1                3               2           1\n",
       "9999               3                1               2           3\n",
       "\n",
       "[10000 rows x 4 columns]"
      ]
     },
     "execution_count": 181,
     "metadata": {},
     "output_type": "execute_result"
    }
   ],
   "source": [
    "\n",
    "\n",
    "troca_porta = troca_porta(escolha, porta_aberta)\n",
    "trocou = pd.DataFrame({'Porta Premiada' : posiçao_premio ,\n",
    "              'Porta Escolhida' : escolha,\n",
    "              'Porta Revelada' : porta_aberta,\n",
    "              'Nova Porta' : troca_porta}) \n",
    "pd.DataFrame({'Porta Premiada' : posiçao_premio ,\n",
    "              'Porta Escolhida' : escolha,\n",
    "              'Porta Revelada' : porta_aberta,\n",
    "              'Nova Porta' : troca_porta})"
   ]
  },
  {
   "cell_type": "markdown",
   "id": "8ed95ff2",
   "metadata": {},
   "source": [
    "Agora para finalizar vamos calcular a % de acertos no cenário onde o candidato troca de porta e no cenário onde não troca"
   ]
  },
  {
   "cell_type": "code",
   "execution_count": 182,
   "id": "e3e2f418",
   "metadata": {},
   "outputs": [
    {
     "name": "stdout",
     "output_type": "stream",
     "text": [
      "Taxa de Acerto Daqueles que Trocaram :         0.6683\n",
      "Taxa de Acerto Daqueles que não Trocaram :     0.3317\n",
      "dtype: float64\n"
     ]
    }
   ],
   "source": [
    "pts_troca = 0\n",
    "pts_naotroca = 0\n",
    "\n",
    "for i in range(n):\n",
    "\n",
    "    # para cada acerto o candidato receberá um ponto, assim iremos calcular a % de acertos\n",
    "    if trocou['Porta Premiada'][i] == trocou['Nova Porta'][i]: \n",
    "        pts_troca = pts_troca + 1\n",
    "        \n",
    "    if nao_trocou['Porta Premiada'][i] == nao_trocou['Porta Escolhida'][i]:\n",
    "        pts_naotroca = pts_naotroca + 1\n",
    "\n",
    "        \n",
    "print(pd.Series([pts_troca/n, pts_naotroca/n] , index = ['Taxa de Acerto Daqueles que Trocaram : ', \n",
    "                                                   'Taxa de Acerto Daqueles que não Trocaram : '])) \n",
    "\n",
    "\n",
    "\n"
   ]
  },
  {
   "cell_type": "markdown",
   "id": "af6981e7",
   "metadata": {},
   "source": [
    "Para finalizar vamos entender graficamente os resultados."
   ]
  },
  {
   "cell_type": "code",
   "execution_count": 183,
   "id": "8efb8a9c",
   "metadata": {},
   "outputs": [
    {
     "data": {
      "image/png": "[encoded data removed]",
      "text/plain": [
       "<Figure size 432x288 with 1 Axes>"
      ]
     },
     "metadata": {},
     "output_type": "display_data"
    },
    {
     "data": {
      "image/png": "[encoded data removed]",
      "text/plain": [
       "<Figure size 432x288 with 1 Axes>"
      ]
     },
     "metadata": {},
     "output_type": "display_data"
    }
   ],
   "source": [
    "labels = 'Erros', 'Acertos'\n",
    "sizes = [100 - (pts_naotroca/n)*100, (pts_naotroca/n)*100]\n",
    "\n",
    "\n",
    "fig1, ax1 = plt.subplots()\n",
    "ax1.pie(sizes, labels=labels, autopct='%1.1f%%',\n",
    "        shadow=True, startangle=90)\n",
    "ax1.axis('equal')  \n",
    "plt.title('Desempenho dos que não trocaram de porta')\n",
    "plt.show()\n",
    "\n",
    "labels = 'Erros', 'Acertos'\n",
    "sizes = [100 - (pts_troca/n)*100, (pts_troca/n)*100]\n",
    "\n",
    "\n",
    "\n",
    "\n",
    "\n",
    "fig2, ax2 = plt.subplots()\n",
    "ax2.pie(sizes, labels=labels, autopct='%1.1f%%',\n",
    "        shadow=True, startangle=90)\n",
    "ax2.axis('equal')  \n",
    "plt.title('Desempenho dos que trocaram de porta')\n",
    "plt.show()\n"
   ]
  },
  {
   "cell_type": "raw",
   "id": "7bc11eef",
   "metadata": {},
   "source": []
  },
  {
   "cell_type": "code",
   "execution_count": null,
   "id": "f97dd7b3",
   "metadata": {},
   "outputs": [],
   "source": []
  }
 ],
 "metadata": {
  "kernelspec": {
   "display_name": "Python 3",
   "language": "python",
   "name": "python3"
  },
  "language_info": {
   "codemirror_mode": {
    "name": "ipython",
    "version": 3
   },
   "file_extension": ".py",
   "mimetype": "text/x-python",
   "name": "python",
   "nbconvert_exporter": "python",
   "pygments_lexer": "ipython3",
   "version": "3.8.8"
  }
 },
 "nbformat": 4,
 "nbformat_minor": 5
}
